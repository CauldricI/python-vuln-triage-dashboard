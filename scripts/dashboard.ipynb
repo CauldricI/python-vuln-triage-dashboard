import pandas as pd, plotly.express as px

df = pd.read_csv("../data/merged_findings.csv")
fig = px.histogram(df, x="Severity", color="Severity", title="Vulnerability Severity Distribution")
fig.show()
